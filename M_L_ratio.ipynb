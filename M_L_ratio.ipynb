{
 "cells": [
  {
   "cell_type": "code",
   "execution_count": 15,
   "metadata": {
    "id": "l-PxqrycavwG"
   },
   "outputs": [],
   "source": [
    "import numpy as np\n",
    "import matplotlib.pyplot as plt\n",
    "from matplotlib.ticker import FuncFormatter\n",
    "import scipy.stats as stats\n",
    "import pandas as pd\n",
    "import torch as tn"
   ]
  },
  {
   "cell_type": "markdown",
   "metadata": {},
   "source": [
    "Directory where the simulation output files are stored."
   ]
  },
  {
   "cell_type": "code",
   "execution_count": 6,
   "metadata": {},
   "outputs": [],
   "source": [
    "path = 'Std model simulation directory'"
   ]
  },
  {
   "cell_type": "markdown",
   "metadata": {},
   "source": [
    "The function *read isochrone data* reads the data relative to MS, RGB and remnant stars contained in the isochrone for the age of 13 Gyr, and returns those of MS and RGB stars (*MS data* and *RGB data*, respectively)."
   ]
  },
  {
   "cell_type": "code",
   "execution_count": 7,
   "metadata": {},
   "outputs": [],
   "source": [
    "def read_isochrone_data():\n",
    "\n",
    "    iso_data = []\n",
    "\n",
    "    with open('Isochrone','r') as file:\n",
    "        for line in file:\n",
    "            iso_data.append([float(x) for x in line.split()])\n",
    "    iso_data = np.asarray(iso_data)\n",
    "\n",
    "    label = iso_data[:,9]\n",
    "    \n",
    "    MS_data = iso_data[label < 3 ]\n",
    "    RGB_data = iso_data[label == 3]\n",
    "    remn_data = iso_data[label == 9]\n",
    "\n",
    "    return MS_data, RGB_data"
   ]
  },
  {
   "cell_type": "markdown",
   "metadata": {},
   "source": [
    "The function *luminosities* extracts both the bolometric luminosity, and the luminosities in the V and B bands for stars in different evolutionary stages (i.e., MS, RGB and WD cooling sequence) from isochrone data, in order to determine the total luminosity of the system. Hence the function returns:\n",
    "\n",
    "1) *L$_{bol}$* : total bolometric luminosity in units of L$_\\odot$ (float type);\n",
    "\n",
    "2) *L$_V$* : total luminosity in the V band in units of L$_\\odot$ (float type);\n",
    "\n",
    "3) *L$_B$* : total luminosity in the B band in units of L$_\\odot$ (float type)."
   ]
  },
  {
   "cell_type": "code",
   "execution_count": 8,
   "metadata": {},
   "outputs": [],
   "source": [
    "def luminosities(N_MS, N_RGB, N_WD, MS_data, RGB_data):\n",
    "    \n",
    "    bol_mag_sun = 4.75\n",
    "    V_mag_sun = 4.83\n",
    "    B_mag_sun = 5.48\n",
    "    \n",
    "    # MS luminosities\n",
    "\n",
    "    bol_mag_MS = MS_data[:,26]\n",
    "    B_mag_MS = MS_data[:,28]\n",
    "    V_mag_MS = MS_data[:,29]\n",
    "\n",
    "    L_bol_MS = np.exp(-(bol_mag_MS-bol_mag_sun)/2.5)\n",
    "    L_bol_tot_MS = np.sum(L_bol_MS)\n",
    "    L_bol_mean_MS = L_bol_tot_MS/len(L_bol_MS)\n",
    "\n",
    "    L_V_MS = np.exp(-(V_mag_MS-V_mag_sun)/2.5)\n",
    "    L_V_tot_MS = np.sum(L_V_MS)\n",
    "    L_V_mean_MS = L_V_tot_MS/len(L_V_MS)\n",
    "\n",
    "    L_B_MS = np.exp(-(B_mag_MS-B_mag_sun)/2.5)\n",
    "    L_B_tot_MS = np.sum(L_B_MS)\n",
    "    L_B_mean_MS = L_B_tot_MS/len(L_B_MS)\n",
    "    \n",
    "    L_bol_all_MS = L_bol_mean_MS*N_MS\n",
    "    L_V_all_MS = L_V_mean_MS*N_MS\n",
    "    L_B_all_MS = L_B_mean_MS*N_MS    \n",
    "    \n",
    "    # RGB luminosities\n",
    "    \n",
    "    bol_mag_RGB = RGB_data[:,26]\n",
    "    B_mag_RGB = RGB_data[:,28]\n",
    "    V_mag_RGB = RGB_data[:,29]\n",
    "\n",
    "    L_bol_RGB = np.exp(-(bol_mag_RGB-bol_mag_sun))/2.5\n",
    "    L_bol_tot_RGB = np.sum(L_bol_RGB)\n",
    "    L_bol_mean_RGB = L_bol_tot_RGB/len(L_bol_RGB)\n",
    "\n",
    "    L_V_RGB = np.exp(-(V_mag_RGB-V_mag_sun)/2.5)\n",
    "    L_V_tot_RGB = np.sum(L_V_RGB)\n",
    "    L_V_mean_RGB = L_V_tot_RGB/len(L_V_RGB)\n",
    "\n",
    "    L_B_RGB = np.exp(-(B_mag_RGB-B_mag_sun)/2.5)\n",
    "    L_B_tot_RGB = np.sum(L_B_RGB)\n",
    "    L_B_mean_RGB = L_B_tot_RGB/len(L_B_RGB)\n",
    "    \n",
    "    L_bol_all_RGB = L_bol_mean_RGB*N_RGB\n",
    "    L_V_all_RGB = L_V_mean_RGB*N_RGB\n",
    "    L_B_all_RGB = L_B_mean_RGB*N_RGB\n",
    "    \n",
    "    # WD luminosities\n",
    "    \n",
    "    L_WD = 10**(-4)*N_WD\n",
    "    \n",
    "    # Total luminosities\n",
    "    \n",
    "    L_bol = np.sum(L_bol_all_MS + L_bol_all_RGB + L_WD) # bolometric\n",
    "    \n",
    "    L_V = np.sum(L_V_all_MS + L_V_all_RGB + L_WD) # V photometric band\n",
    "    \n",
    "    L_B = np.sum(L_B_all_MS + L_B_all_RGB + L_WD) # B photometric band\n",
    "\n",
    "    return L_bol, L_V, L_B    "
   ]
  },
  {
   "cell_type": "markdown",
   "metadata": {},
   "source": [
    "The function *M/L ratio* computes the mass-to-light ratio by considering the dynamical mass and the total luminosity of the system, and returns:\n",
    "\n",
    "1) *M/L$_{bol}$ ratio* : mass-to-light ratio for the total bolometric luminosity in M$_\\odot$/L$_{bol,\\odot}$ (float type);\n",
    "\n",
    "2) *M/L$_V$ ratio* : mass-to-light ratio for the total V-band luminosity in M$_\\odot$/L$_{V,\\odot}$ (float type);\n",
    "\n",
    "3) *M/L$_B$ ratio* : mass-to-light ratio for the total B-band luminosity in M$_\\odot$/L$_{B,\\odot}$ (float type)."
   ]
  },
  {
   "cell_type": "code",
   "execution_count": 9,
   "metadata": {},
   "outputs": [],
   "source": [
    "def ML_ratio(M, L_bol, L_V, L_B):\n",
    "    \n",
    "    ML_bol_ratio = M/L_bol\n",
    "    \n",
    "    ML_V_ratio = M/L_V\n",
    "    \n",
    "    ML_B_ratio = M/L_B\n",
    "    \n",
    "    return ML_bol_ratio, ML_V_ratio, ML_B_ratio"
   ]
  },
  {
   "cell_type": "markdown",
   "metadata": {},
   "source": [
    "The function *obtain velocity dispersion* reads the output files named *sigma$_{100f_b}$* in the simulation directory and stores their data into a 8$\\times$9 matrix. Hence it returns, at varying binary fraction:\n",
    "\n",
    "1) *$\\sigma$* : observed velocity dispersion in km/s (1-D array);\n",
    "\n",
    "2) *$\\sigma_0$* : observed velocity dispersion in km/s (1-D array).\n",
    "\n",
    "In particular, here *$\\sigma$*=*$\\sigma_{tot}$* and *$\\sigma_0$*=*$\\sigma_{sb}$*."
   ]
  },
  {
   "cell_type": "code",
   "execution_count": 10,
   "metadata": {},
   "outputs": [],
   "source": [
    "def obtain_velocity_dispersion(path):\n",
    "    \n",
    "    f_b = np.array([0,5,10,15,20,25,30,35,40])\n",
    "    \n",
    "    sigma_matrix = np.zeros(shape=(8,9))\n",
    "    i = 0\n",
    "    for number in f_b:\n",
    "        j = 0\n",
    "        with open('path/sigma_%i'%int(number), 'r') as file:\n",
    "            for line in file:\n",
    "                sigma_matrix[j,i]=[float(x) for x in line.split()][0]\n",
    "                j +=1\n",
    "        i += 1\n",
    "    \n",
    "    sigma = sigma_matrix[0,:]\n",
    "    sigma_0 = sigma_matrix[1,:]\n",
    "    \n",
    "    return sigma, sigma_0"
   ]
  },
  {
   "cell_type": "markdown",
   "metadata": {},
   "source": [
    "The function *obtain star numbers* reads the output files named *stars$_{100f_b}$* in the simulation directory and stores their data into a 3$\\times$9 matrix. Hence it returns, at varying binary fraction:\n",
    "\n",
    "1) *N$_{MS}$* : number of MS stars (1-D array);\n",
    "\n",
    "2) *N$_{RGB}$* : number of RGB stars (1-D array);\n",
    "\n",
    "3) *N$_{WD}$* : number of WDs (1-D array)."
   ]
  },
  {
   "cell_type": "code",
   "execution_count": 12,
   "metadata": {},
   "outputs": [],
   "source": [
    "def obtain_star_numbers(path):\n",
    "    \n",
    "    f_b = np.array([0,5,10,15,20,25,30,35,40])\n",
    "    \n",
    "    stars_matrix = np.zeros(shape=(3,9))\n",
    "    i = 0\n",
    "    for number in f_b:\n",
    "        j = 0\n",
    "        with open('path/stars_%i'%int(number), 'r') as file:\n",
    "            for line in file:\n",
    "                stars_matrix[j,i]=[float(x) for x in line.split()][0]\n",
    "                j +=1\n",
    "        i += 1\n",
    "    \n",
    "    N_MS = stars_matrix[0,:]\n",
    "    N_RGB = stars_matrix[1,:]\n",
    "    N_WD = stars_matrix[2,:]\n",
    "    \n",
    "    return N_MS, N_RGB, N_WD"
   ]
  },
  {
   "cell_type": "markdown",
   "metadata": {},
   "source": [
    "The function *dynamical mass* derives the dynamical mass *M$_{dyn}$* (1-D array) of the system in M$_\\odot$ from the observed and the intrinsic velocity dispersion (*$\\sigma$* and *$\\sigma_0$*, respectively) at varying binary fraction."
   ]
  },
  {
   "cell_type": "code",
   "execution_count": 13,
   "metadata": {},
   "outputs": [],
   "source": [
    "def dynamical_mass(R, M_tot, sigma, sigma_0):\n",
    "    \n",
    "    normalized_delta_M = (sigma**2-sigma_0**2)/(sigma_0**2)\n",
    "    \n",
    "    M_dyn = (M_tot*normalized_delta_M) + M_tot\n",
    "    \n",
    "    return M_dyn"
   ]
  },
  {
   "cell_type": "markdown",
   "metadata": {},
   "source": [
    "Functions initialization, where *R*=50 pc and *M$_{tot}$*=5$\\times$10$^4$ M$_\\odot$ for the simulated UFD, whereas *R*=3$\\times$10$^3$ pc and *M$_{tot}$*=10$^7$ M$_\\odot$ for the simulated dSph."
   ]
  },
  {
   "cell_type": "code",
   "execution_count": 16,
   "metadata": {},
   "outputs": [
    {
     "ename": "FileNotFoundError",
     "evalue": "[Errno 2] No such file or directory: 'path/sigma_0'",
     "output_type": "error",
     "traceback": [
      "\u001b[0;31m---------------------------------------------------------------------------\u001b[0m",
      "\u001b[0;31mFileNotFoundError\u001b[0m                         Traceback (most recent call last)",
      "\u001b[0;32m<ipython-input-16-48f19fe60d7f>\u001b[0m in \u001b[0;36m<module>\u001b[0;34m\u001b[0m\n\u001b[0;32m----> 1\u001b[0;31m \u001b[0msigma\u001b[0m\u001b[0;34m,\u001b[0m \u001b[0msigma_0\u001b[0m \u001b[0;34m=\u001b[0m \u001b[0mobtain_velocity_dispersion\u001b[0m\u001b[0;34m(\u001b[0m\u001b[0mpath\u001b[0m\u001b[0;34m)\u001b[0m\u001b[0;34m\u001b[0m\u001b[0;34m\u001b[0m\u001b[0m\n\u001b[0m\u001b[1;32m      2\u001b[0m \u001b[0;34m\u001b[0m\u001b[0m\n\u001b[1;32m      3\u001b[0m \u001b[0mN_MS\u001b[0m\u001b[0;34m,\u001b[0m \u001b[0mN_RGB\u001b[0m\u001b[0;34m,\u001b[0m \u001b[0mN_WD\u001b[0m \u001b[0;34m=\u001b[0m \u001b[0mobtain_star_numbers\u001b[0m\u001b[0;34m(\u001b[0m\u001b[0mpath\u001b[0m\u001b[0;34m)\u001b[0m\u001b[0;34m\u001b[0m\u001b[0;34m\u001b[0m\u001b[0m\n\u001b[1;32m      4\u001b[0m \u001b[0;34m\u001b[0m\u001b[0m\n\u001b[1;32m      5\u001b[0m \u001b[0mM_dyn\u001b[0m \u001b[0;34m=\u001b[0m \u001b[0mdynamical_mass\u001b[0m\u001b[0;34m(\u001b[0m\u001b[0mR\u001b[0m\u001b[0;34m,\u001b[0m \u001b[0mM_tot\u001b[0m\u001b[0;34m,\u001b[0m \u001b[0msigma\u001b[0m\u001b[0;34m,\u001b[0m \u001b[0msigma_0\u001b[0m\u001b[0;34m)\u001b[0m\u001b[0;34m\u001b[0m\u001b[0;34m\u001b[0m\u001b[0m\n",
      "\u001b[0;32m<ipython-input-10-4c1f393ca261>\u001b[0m in \u001b[0;36mobtain_velocity_dispersion\u001b[0;34m(path)\u001b[0m\n\u001b[1;32m      7\u001b[0m     \u001b[0;32mfor\u001b[0m \u001b[0mnumber\u001b[0m \u001b[0;32min\u001b[0m \u001b[0mf_b\u001b[0m\u001b[0;34m:\u001b[0m\u001b[0;34m\u001b[0m\u001b[0;34m\u001b[0m\u001b[0m\n\u001b[1;32m      8\u001b[0m         \u001b[0mj\u001b[0m \u001b[0;34m=\u001b[0m \u001b[0;36m0\u001b[0m\u001b[0;34m\u001b[0m\u001b[0;34m\u001b[0m\u001b[0m\n\u001b[0;32m----> 9\u001b[0;31m         \u001b[0;32mwith\u001b[0m \u001b[0mopen\u001b[0m\u001b[0;34m(\u001b[0m\u001b[0;34m'path/sigma_%i'\u001b[0m\u001b[0;34m%\u001b[0m\u001b[0mint\u001b[0m\u001b[0;34m(\u001b[0m\u001b[0mnumber\u001b[0m\u001b[0;34m)\u001b[0m\u001b[0;34m,\u001b[0m \u001b[0;34m'r'\u001b[0m\u001b[0;34m)\u001b[0m \u001b[0;32mas\u001b[0m \u001b[0mfile\u001b[0m\u001b[0;34m:\u001b[0m\u001b[0;34m\u001b[0m\u001b[0;34m\u001b[0m\u001b[0m\n\u001b[0m\u001b[1;32m     10\u001b[0m             \u001b[0;32mfor\u001b[0m \u001b[0mline\u001b[0m \u001b[0;32min\u001b[0m \u001b[0mfile\u001b[0m\u001b[0;34m:\u001b[0m\u001b[0;34m\u001b[0m\u001b[0;34m\u001b[0m\u001b[0m\n\u001b[1;32m     11\u001b[0m                 \u001b[0msigma_matrix\u001b[0m\u001b[0;34m[\u001b[0m\u001b[0mj\u001b[0m\u001b[0;34m,\u001b[0m\u001b[0mi\u001b[0m\u001b[0;34m]\u001b[0m\u001b[0;34m=\u001b[0m\u001b[0;34m[\u001b[0m\u001b[0mfloat\u001b[0m\u001b[0;34m(\u001b[0m\u001b[0mx\u001b[0m\u001b[0;34m)\u001b[0m \u001b[0;32mfor\u001b[0m \u001b[0mx\u001b[0m \u001b[0;32min\u001b[0m \u001b[0mline\u001b[0m\u001b[0;34m.\u001b[0m\u001b[0msplit\u001b[0m\u001b[0;34m(\u001b[0m\u001b[0;34m)\u001b[0m\u001b[0;34m]\u001b[0m\u001b[0;34m[\u001b[0m\u001b[0;36m0\u001b[0m\u001b[0;34m]\u001b[0m\u001b[0;34m\u001b[0m\u001b[0;34m\u001b[0m\u001b[0m\n",
      "\u001b[0;31mFileNotFoundError\u001b[0m: [Errno 2] No such file or directory: 'path/sigma_0'"
     ]
    }
   ],
   "source": [
    "sigma, sigma_0 = obtain_velocity_dispersion(path)\n",
    "\n",
    "N_MS, N_RGB, N_WD = obtain_star_numbers(path)\n",
    "\n",
    "M_dyn = dynamical_mass(R, M_tot, sigma, sigma_0)"
   ]
  },
  {
   "cell_type": "markdown",
   "metadata": {},
   "source": [
    "Values of the mass-to-light ratio for *f$_b$*=0."
   ]
  },
  {
   "cell_type": "code",
   "execution_count": 5,
   "metadata": {},
   "outputs": [
    {
     "ename": "NameError",
     "evalue": "name 'luminosities' is not defined",
     "output_type": "error",
     "traceback": [
      "\u001b[0;31m---------------------------------------------------------------------------\u001b[0m",
      "\u001b[0;31mNameError\u001b[0m                                 Traceback (most recent call last)",
      "\u001b[0;32m<ipython-input-5-63d36fb32216>\u001b[0m in \u001b[0;36m<module>\u001b[0;34m\u001b[0m\n\u001b[0;32m----> 1\u001b[0;31m \u001b[0mL_bol_0\u001b[0m\u001b[0;34m,\u001b[0m \u001b[0mL_V_0\u001b[0m\u001b[0;34m,\u001b[0m \u001b[0mL_B_0\u001b[0m \u001b[0;34m=\u001b[0m \u001b[0mluminosities\u001b[0m\u001b[0;34m(\u001b[0m\u001b[0mN_MS\u001b[0m\u001b[0;34m[\u001b[0m\u001b[0;36m0\u001b[0m\u001b[0;34m]\u001b[0m\u001b[0;34m,\u001b[0m \u001b[0mN_RGB\u001b[0m\u001b[0;34m[\u001b[0m\u001b[0;36m0\u001b[0m\u001b[0;34m]\u001b[0m\u001b[0;34m,\u001b[0m \u001b[0mN_WD\u001b[0m\u001b[0;34m[\u001b[0m\u001b[0;36m0\u001b[0m\u001b[0;34m]\u001b[0m\u001b[0;34m,\u001b[0m \u001b[0mMS_data\u001b[0m\u001b[0;34m,\u001b[0m \u001b[0mRGB_data\u001b[0m\u001b[0;34m)\u001b[0m\u001b[0;34m\u001b[0m\u001b[0;34m\u001b[0m\u001b[0m\n\u001b[0m\u001b[1;32m      2\u001b[0m \u001b[0;34m\u001b[0m\u001b[0m\n\u001b[1;32m      3\u001b[0m \u001b[0mML_bol_ratio_0\u001b[0m\u001b[0;34m,\u001b[0m \u001b[0mML_V_ratio_0\u001b[0m\u001b[0;34m,\u001b[0m \u001b[0mML_B_ratio_0\u001b[0m \u001b[0;34m=\u001b[0m \u001b[0mML_ratio\u001b[0m\u001b[0;34m(\u001b[0m\u001b[0mM_dyn\u001b[0m\u001b[0;34m[\u001b[0m\u001b[0;36m0\u001b[0m\u001b[0;34m]\u001b[0m\u001b[0;34m,\u001b[0m \u001b[0mL_bol_0\u001b[0m\u001b[0;34m,\u001b[0m \u001b[0mL_V_0\u001b[0m\u001b[0;34m,\u001b[0m \u001b[0mL_B_0\u001b[0m\u001b[0;34m)\u001b[0m\u001b[0;34m\u001b[0m\u001b[0;34m\u001b[0m\u001b[0m\n\u001b[1;32m      4\u001b[0m \u001b[0;34m\u001b[0m\u001b[0m\n\u001b[1;32m      5\u001b[0m \u001b[0mprint\u001b[0m\u001b[0;34m(\u001b[0m\u001b[0;34m'M/L$_{bol}$ for *f$_b$=0 :'\u001b[0m\u001b[0;34m,\u001b[0m \u001b[0mML_bol_ratio_0\u001b[0m\u001b[0;34m)\u001b[0m\u001b[0;34m\u001b[0m\u001b[0;34m\u001b[0m\u001b[0m\n",
      "\u001b[0;31mNameError\u001b[0m: name 'luminosities' is not defined"
     ]
    }
   ],
   "source": [
    "L_bol_0, L_V_0, L_B_0 = luminosities(N_MS[0], N_RGB[0], N_WD[0], MS_data, RGB_data)\n",
    "\n",
    "ML_bol_ratio_0, ML_V_ratio_0, ML_B_ratio_0 = ML_ratio(M_dyn[0], L_bol_0, L_V_0, L_B_0)\n",
    "\n",
    "print('M/L$_{bol}$ for *f$_b$=0 :', ML_bol_ratio_0)\n",
    "print('M/L$_V$ for *f$_b$=0 :', ML_V_ratio_0)\n",
    "print('M/L$_B$ for *f$_b$=0 :', ML_B_ratio_0)"
   ]
  },
  {
   "cell_type": "markdown",
   "metadata": {},
   "source": [
    "Values of the mass-to-light ratio for *f$_b$*=0.05."
   ]
  },
  {
   "cell_type": "code",
   "execution_count": 12,
   "metadata": {},
   "outputs": [
    {
     "name": "stdout",
     "output_type": "stream",
     "text": [
      "Values of M/L for f_b = 0.05 (UFD): 1.946946477045229 19.042529698742246 15.647229775498234\n",
      "Values of M/L for f_b = 0.05 (dSph): 0.07432608270763114 0.7269047851689707 0.5974171520369083\n"
     ]
    }
   ],
   "source": [
    "L_bol_5, L_V_5, L_B_5 = luminosities(N_MS[1], N_RGB[1], N_WD[1], MS_data, RGB_data)\n",
    "\n",
    "ML_bol_ratio_5, ML_V_ratio_5, ML_B_ratio_5 = ML_ratio(M_dyn[1], L_bol_5, L_V_5, L_B_5)\n",
    "\n",
    "print('M/L$_{bol}$ for *f$_b$=0.05 :', ML_bol_ratio_5)\n",
    "print('M/L$_V$ for *f$_b$=0.05 :', ML_V_ratio_5)\n",
    "print('M/L$_B$ for *f$_b$=0.05 :', ML_B_ratio_5)"
   ]
  },
  {
   "cell_type": "markdown",
   "metadata": {},
   "source": [
    "Values of the mass-to-light ratio for *f$_b$*=0.15."
   ]
  },
  {
   "cell_type": "code",
   "execution_count": 13,
   "metadata": {},
   "outputs": [
    {
     "name": "stdout",
     "output_type": "stream",
     "text": [
      "Values of M/L for f_b = 0.15 (UFD): 5.640376359145963 55.162004581688436 45.33683508216606\n",
      "Values of M/L for f_b = 0.15 (dSph): 0.5797129804534176 5.669162348882274 4.6601123397374336\n"
     ]
    }
   ],
   "source": [
    "L_bol_15, L_V_15, L_B_15 = luminosities(N_MS[3], N_RGB[3], N_WD[3], MS_data, RGB_data)\n",
    "\n",
    "ML_bol_ratio_15, ML_V_ratio_15, ML_B_ratio_15 = ML_ratio(M_dyn[3], L_bol_15, L_V_15, L_B_15)\n",
    "\n",
    "print('M/L$_{bol}$ for *f$_b$=0.15 :', ML_bol_ratio_15)\n",
    "print('M/L$_V$ for *f$_b$=0.15 :', ML_V_ratio_15)\n",
    "print('M/L$_B$ for *f$_b$=0.15 :', ML_B_ratio_15)"
   ]
  },
  {
   "cell_type": "markdown",
   "metadata": {},
   "source": [
    "Values of the mass-to-light ratio for *f$_b$*=0.30."
   ]
  },
  {
   "cell_type": "code",
   "execution_count": 14,
   "metadata": {},
   "outputs": [
    {
     "name": "stdout",
     "output_type": "stream",
     "text": [
      "Values of M/L for f_b = 0.3 (UFD): 11.261677264720776 110.12866323325507 90.53149369848155\n",
      "Values of M/L for f_b = 0.3 (dSph): 1.2925518579881279 12.64087034464634 10.389523928154837\n"
     ]
    }
   ],
   "source": [
    "L_bol_30, L_V_30, L_B_30 = luminosities(N_MS[6], N_RGB[6], N_WD[6], MS_data, RGB_data)\n",
    "\n",
    "ML_bol_ratio_30, ML_V_ratio_30, ML_B_ratio_30 = ML_ratio(M_dyn[6], L_bol_30, L_V_30, L_B_30)\n",
    "\n",
    "print('M/L$_{bol}$ for *f$_b$=0.30 :', ML_bol_ratio_30)\n",
    "print('M/L$_V$ for *f$_b$=0.30 :', ML_V_ratio_30)\n",
    "print('M/L$_B$ for *f$_b$=0.30 :', ML_B_ratio_30)"
   ]
  },
  {
   "cell_type": "markdown",
   "metadata": {},
   "source": [
    "Values of the mass-to-light ratio for *f$_b$*=0.40."
   ]
  },
  {
   "cell_type": "code",
   "execution_count": 15,
   "metadata": {},
   "outputs": [
    {
     "name": "stdout",
     "output_type": "stream",
     "text": [
      "Values of M/L for f_b = 0.4 (UFD): 14.918795450155246 145.88255527982778 119.9425008604154\n",
      "Values of M/L for f_b = 0.4 (dSph): 1.7011511752830892 16.63747147462019 13.673094008484497\n"
     ]
    }
   ],
   "source": [
    "L_bol_40, L_V_40, L_B_40 = luminosities(N_MS[8], N_RGB[8], N_WD[8], MS_data, RGB_data)\n",
    "\n",
    "ML_bol_ratio_40, ML_V_ratio_40, ML_B_ratio_40 = ML_ratio(M_dyn[8], L_bol_40, L_V_40, L_B_40)\n",
    "\n",
    "print('M/L$_{bol}$ for *f$_b$=0.40 :', ML_bol_ratio_40)\n",
    "print('M/L$_V$ for *f$_b$=0.40 :', ML_V_ratio_40)\n",
    "print('M/L$_B$ for *f$_b$=0.40 :', ML_B_ratio_40)"
   ]
  },
  {
   "cell_type": "markdown",
   "metadata": {},
   "source": [
    "The function *plot M/L$_{bol}$ ratio* plots the mass-to-bolometric-light ratio as a function of the binary fraction *f$_b$*."
   ]
  },
  {
   "cell_type": "code",
   "execution_count": 1,
   "metadata": {},
   "outputs": [],
   "source": [
    "def plot_ML_bol_ratio(ML_bol_ratio_0, ML_bol_ratio_5, ML_bol_ratio_15, ML_bol_ratio_30, ML_bol_ratio_40, _plot=True):\n",
    "\n",
    "    def precision(y, pos):\n",
    "        return '%2.2f' % (y)\n",
    "\n",
    "    formatter = FuncFormatter(precision)\n",
    "\n",
    "    ML_bol_ratio = np.zeros(5)\n",
    "\n",
    "    ML_bol_ratio[0] = ML_bol_ratio_0\n",
    "    ML_bol_ratio[1] = ML_bol_ratio_5\n",
    "    ML_bol_ratio[2] = ML_bol_ratio_15\n",
    "    ML_bol_ratio[3] = ML_bol_ratio_30\n",
    "    ML_bol_ratio[4] = ML_bol_ratio_40\n",
    "\n",
    "    if _plot:\n",
    "        \n",
    "        f_b = np.array([int(0),0.05,0.15,0.3,0.4])\n",
    "        fig, ay = plt.subplots(figsize=(6,6), dpi=120)\n",
    "        X = f_b\n",
    "        Y = ML_bol_ratio\n",
    "        plt.plot(X, Y, marker='o', markersize=7, mfc='white', mec='black', color='black', linewidth=2, alpha=1)\n",
    "        plt.xlabel('$f_b$', fontsize=25)\n",
    "        plt.ylabel('$M/L_{bol}$ [M$_\\odot$/L$_{bol,\\odot}$]', fontsize=25)\n",
    "        plt.xticks(ticks=X, labels=['0','0.05','0.15','0.3','0.4'], fontsize=18)\n",
    "        ay.yaxis.set_major_formatter(formatter)\n",
    "        plt.yticks(ticks=Y, fontsize=18)\n",
    "        plt.show()\n",
    "    \n",
    "    return 0"
   ]
  },
  {
   "cell_type": "markdown",
   "metadata": {},
   "source": [
    "The function *plot M/L$_V$ ratio* plots the mass-to-light ratio in the V band as a function of the binary fraction *f$_b$*."
   ]
  },
  {
   "cell_type": "code",
   "execution_count": 2,
   "metadata": {},
   "outputs": [],
   "source": [
    "def plot_ML_V_ratio(ML_V_ratio_0, ML_V_ratio_5, ML_V_ratio_15, ML_V_ratio_30, ML_V_ratio_40, _plot=True):\n",
    "\n",
    "    def precision(y, pos):\n",
    "        return '%2.2f' % (y)\n",
    "\n",
    "    formatter = FuncFormatter(precision)\n",
    "\n",
    "    ML_V_ratio = np.zeros(5)\n",
    "\n",
    "    ML_V_ratio[0] = ML_V_ratio_0\n",
    "    ML_V_ratio[1] = ML_V_ratio_5\n",
    "    ML_V_ratio[2] = ML_V_ratio_15\n",
    "    ML_V_ratio[3] = ML_V_ratio_30\n",
    "    ML_V_ratio[4] = ML_V_ratio_40\n",
    "    \n",
    "    if _plot:\n",
    "\n",
    "        f_b = np.array([int(0),0.05,0.15,0.3,0.4])\n",
    "        fig, ay = plt.subplots(figsize=(6,6), dpi=120)\n",
    "        X = f_b\n",
    "        Y = ML_V_ratio\n",
    "        plt.plot(X, Y, marker='o', markersize=7, mfc='white', mec='black', color='black', linewidth=2, alpha=1)\n",
    "        plt.xlabel('$f_b$', fontsize=25)\n",
    "        plt.ylabel('$M/L_V$ [M$_\\odot$/L$_{V,\\odot}$]', fontsize=25)\n",
    "        plt.xticks(ticks=X, labels=['0','0.05','0.15','0.3','0.4'], fontsize=18)\n",
    "        ay.yaxis.set_major_formatter(formatter)\n",
    "        plt.yticks(ticks=Y, fontsize=18)\n",
    "        plt.show()\n",
    "    \n",
    "    return 0"
   ]
  },
  {
   "cell_type": "markdown",
   "metadata": {},
   "source": [
    "The function *plot M/L$_B$ ratio* plots the mass-to-light ratio in the B band as a function of the binary fraction *f$_b$*."
   ]
  },
  {
   "cell_type": "code",
   "execution_count": 3,
   "metadata": {
    "scrolled": true
   },
   "outputs": [],
   "source": [
    "def plot_ML_B_ratio(ML_B_ratio_0, ML_B_ratio_5, ML_B_ratio_15, ML_B_ratio_30, ML_B_ratio_40, _plot=True):\n",
    "\n",
    "    def precision(y, pos):\n",
    "        return '%2.2f' % (y)\n",
    "\n",
    "    formatter = FuncFormatter(precision)\n",
    "\n",
    "    ML_V_ratio = np.zeros(5)\n",
    "\n",
    "    ML_B_ratio[0] = ML_B_ratio_0\n",
    "    ML_B_ratio[1] = ML_B_ratio_5\n",
    "    ML_B_ratio[2] = ML_B_ratio_15\n",
    "    ML_B_ratio[3] = ML_B_ratio_30\n",
    "    ML_B_ratio[4] = ML_B_ratio_40\n",
    "    \n",
    "    if _plot:\n",
    "\n",
    "        f_b = np.array([int(0),0.05,0.15,0.3,0.4])\n",
    "        fig, ay = plt.subplots(figsize=(6,6), dpi=120)\n",
    "        X = f_b\n",
    "        Y = ML_B_ratio\n",
    "        plt.plot(X, Y, marker='o', markersize=7, mfc='white', mec='black', color='black', linewidth=2, alpha=1)\n",
    "        plt.xlabel('$f_b$', fontsize=25)\n",
    "        plt.ylabel('$M/L_B$ [M$_\\odot$/L$_{B,\\odot}$]', fontsize=25)\n",
    "        plt.xticks(ticks=X, labels=['0','0.05','0.15','0.3','0.4'], fontsize=18)\n",
    "        ay.yaxis.set_major_formatter(formatter)\n",
    "        plt.yticks(ticks=Y, fontsize=18)\n",
    "        plt.show()\n",
    "    \n",
    "    return 0"
   ]
  },
  {
   "cell_type": "markdown",
   "metadata": {},
   "source": [
    "Plot functions initialization. If plots are not required, then *_plot=False*."
   ]
  },
  {
   "cell_type": "code",
   "execution_count": 4,
   "metadata": {},
   "outputs": [
    {
     "ename": "NameError",
     "evalue": "name 'ML_bol_ratio_0' is not defined",
     "output_type": "error",
     "traceback": [
      "\u001b[0;31m---------------------------------------------------------------------------\u001b[0m",
      "\u001b[0;31mNameError\u001b[0m                                 Traceback (most recent call last)",
      "\u001b[0;32m<ipython-input-4-10e86205a664>\u001b[0m in \u001b[0;36m<module>\u001b[0;34m\u001b[0m\n\u001b[0;32m----> 1\u001b[0;31m \u001b[0mplot_ML_bol_ratio\u001b[0m\u001b[0;34m(\u001b[0m\u001b[0mML_bol_ratio_0\u001b[0m\u001b[0;34m,\u001b[0m \u001b[0mML_bol_ratio_5\u001b[0m\u001b[0;34m,\u001b[0m \u001b[0mML_bol_ratio_15\u001b[0m\u001b[0;34m,\u001b[0m \u001b[0mML_bol_ratio_30\u001b[0m\u001b[0;34m,\u001b[0m \u001b[0mML_bol_ratio_40\u001b[0m\u001b[0;34m)\u001b[0m\u001b[0;34m\u001b[0m\u001b[0;34m\u001b[0m\u001b[0m\n\u001b[0m\u001b[1;32m      2\u001b[0m \u001b[0;34m\u001b[0m\u001b[0m\n\u001b[1;32m      3\u001b[0m \u001b[0mplot_ML_V_ratio\u001b[0m\u001b[0;34m(\u001b[0m\u001b[0mML_V_ratio_0\u001b[0m\u001b[0;34m,\u001b[0m \u001b[0mML_V_ratio_5\u001b[0m\u001b[0;34m,\u001b[0m \u001b[0mML_V_ratio_15\u001b[0m\u001b[0;34m,\u001b[0m \u001b[0mML_V_ratio_30\u001b[0m\u001b[0;34m,\u001b[0m \u001b[0mML_V_ratio_40\u001b[0m\u001b[0;34m)\u001b[0m\u001b[0;34m\u001b[0m\u001b[0;34m\u001b[0m\u001b[0m\n\u001b[1;32m      4\u001b[0m \u001b[0;34m\u001b[0m\u001b[0m\n\u001b[1;32m      5\u001b[0m \u001b[0mplot_ML_B_ratio\u001b[0m\u001b[0;34m(\u001b[0m\u001b[0mML_B_ratio_0\u001b[0m\u001b[0;34m,\u001b[0m \u001b[0mML_B_ratio_5\u001b[0m\u001b[0;34m,\u001b[0m \u001b[0mML_B_ratio_15\u001b[0m\u001b[0;34m,\u001b[0m \u001b[0mML_B_ratio_30\u001b[0m\u001b[0;34m,\u001b[0m \u001b[0mML_B_ratio_40\u001b[0m\u001b[0;34m)\u001b[0m\u001b[0;34m\u001b[0m\u001b[0;34m\u001b[0m\u001b[0m\n",
      "\u001b[0;31mNameError\u001b[0m: name 'ML_bol_ratio_0' is not defined"
     ]
    }
   ],
   "source": [
    "plot_ML_bol_ratio(ML_bol_ratio_0, ML_bol_ratio_5, ML_bol_ratio_15, ML_bol_ratio_30, ML_bol_ratio_40, _plot=True)\n",
    "\n",
    "plot_ML_V_ratio(ML_V_ratio_0, ML_V_ratio_5, ML_V_ratio_15, ML_V_ratio_30, ML_V_ratio_40, _plot=True)\n",
    "\n",
    "plot_ML_B_ratio(ML_B_ratio_0, ML_B_ratio_5, ML_B_ratio_15, ML_B_ratio_30, ML_B_ratio_40, _plot=True)"
   ]
  },
  {
   "cell_type": "code",
   "execution_count": null,
   "metadata": {},
   "outputs": [],
   "source": []
  }
 ],
 "metadata": {
  "colab": {
   "collapsed_sections": [],
   "name": "isochrone_fit_new.ipynb",
   "provenance": []
  },
  "kernelspec": {
   "display_name": "Python 3 (ipykernel)",
   "language": "python",
   "name": "python3"
  },
  "language_info": {
   "codemirror_mode": {
    "name": "ipython",
    "version": 3
   },
   "file_extension": ".py",
   "mimetype": "text/x-python",
   "name": "python",
   "nbconvert_exporter": "python",
   "pygments_lexer": "ipython3",
   "version": "3.11.4"
  }
 },
 "nbformat": 4,
 "nbformat_minor": 1
}
