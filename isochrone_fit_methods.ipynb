{
 "cells": [
  {
   "cell_type": "code",
   "execution_count": 1,
   "metadata": {
    "id": "l-PxqrycavwG"
   },
   "outputs": [],
   "source": [
    "import numpy as np\n",
    "import matplotlib.pyplot as plt\n",
    "import scipy.stats as stats\n",
    "import pandas as pd"
   ]
  },
  {
   "cell_type": "code",
   "execution_count": 2,
   "metadata": {
    "id": "-wIjTaNBavxA"
   },
   "outputs": [],
   "source": [
    "# Isochrone reading\n",
    "\n",
    "def isochrone_parameters():\n",
    "    \n",
    "    my_iso = []\n",
    "    with open(\"Isochrone\",\"r\") as file:\n",
    "      for line in file:\n",
    "        my_iso.append([float(x) for x in line.split()])\n",
    "\n",
    "    my_iso = np.asarray(my_iso)\n",
    "\n",
    "    X = my_iso[:,5]\n",
    "    Y = my_iso[:,6]\n",
    "\n",
    "    RGB_iso = my_iso[my_iso[:,9] == 3] # Label = 3 defines RGB stars\n",
    "    MS_iso = my_iso[my_iso[:,9] < 3 ] # Labels 1 and 2 define MS stars\n",
    "\n",
    "    M_MS, log_L_MS = MS_iso[:,5], MS_iso[:,6]\n",
    "    M_RGB, log_L_RGB = RGB_iso[:,5], RGB_iso[:,6]\n",
    "\n",
    "    order_MS = np.argsort(M_MS)\n",
    "    M_MS = M_MS[order_MS]\n",
    "    log_L_MS = log_L_MS[order_MS]\n",
    "\n",
    "    order_RGB = np.argsort(M_RGB)\n",
    "    M_RGB = M_RGB[order_RGB]\n",
    "    log_L_RGB = log_L_RGB[order_RGB]\n",
    "                            \n",
    "    return  M_MS, M_RGB, log_L_MS, log_L_RGB"
   ]
  },
  {
   "cell_type": "code",
   "execution_count": 3,
   "metadata": {
    "id": "z3Me4I1PavxB"
   },
   "outputs": [],
   "source": [
    "# Isochrone fit: linear interpolation with Lipschitzanity condition\n",
    "\n",
    "def rectification_parameters(x_1, x_2, y_1, y_2):\n",
    "    \n",
    "      ac = (y_2-y_1)/(x_2-x_1) # Angular coefficient\n",
    "      q = y_1 - ac*x_1 # Intercept\n",
    "    \n",
    "      return ac, q\n",
    "\n",
    "def find_your_place(mass, M_iso): # It finds the index of the nearest experimental mass value to\n",
    "                                  # the selected mass value of the isochrone\n",
    "    \n",
    "      where = np.argmin(np.abs(M_iso-mass))\n",
    "\n",
    "      if - (M_iso[where]-mass) > 0:\n",
    "        return where\n",
    "      else: \n",
    "        return where - 1\n",
    "\n",
    "def plot_rectification(M_iso, log_L_iso, mass, _plot=False, just_extraction=False):\n",
    "    \n",
    "      saved_ac, _ = rectification_parameters(M_iso[0], M_iso[1],log_L_iso[0],log_L_iso[1])\n",
    "      discarded_coordinates = []\n",
    "\n",
    "      where = find_your_place(mass, M_iso)\n",
    "      value_mass = 0\n",
    "    \n",
    "      for i in range(len(M_iso)-1):\n",
    "        j = 0\n",
    "\n",
    "        if just_extraction: # If true it just extracts the luminosity values, if false it both extracts and plots\n",
    "          i = where\n",
    "          saved_ac, _ = rectification_parameters(M_iso[i-1], M_iso[i], log_L_iso[i-1], log_L_iso[i])\n",
    "\n",
    "          while True:\n",
    "            ac, q = rectification_parameters(M_iso[i], M_iso[i+1+j],log_L_iso[i], log_L_iso[i+1+j])\n",
    "            \n",
    "            if np.abs(ac) < 3*np.abs(saved_ac): # Lipschitzanity condition\n",
    "              value_mass = (mass*ac+q)\n",
    "              return value_mass\n",
    "\n",
    "            else: \n",
    "              j += 1\n",
    "\n",
    "            if i+1+j == len(M_iso): return 0\n",
    "            \n",
    "        # Find the position in the rectification\n",
    "\n",
    "        while True:\n",
    "              enable_interpolation = False\n",
    "    \n",
    "              if where == i:\n",
    "                enable_interpolation = True\n",
    "              ac, q = rectification_parameters(M_iso[i], M_iso[i+1+j],log_L_iso[i], log_L_iso[i+1+j])\n",
    "              \n",
    "              if np.abs(ac) < 3*np.abs(saved_ac): \n",
    "                saved_ac = ac\n",
    "                x_1, x_2 = M_iso[i], M_iso[i+1+j]\n",
    "                y_1, y_2 = log_L_iso[i], log_L_iso[i+1+j]\n",
    "                if _plot: plt.plot([x_1, x_2], [y_1, y_2], 'b+')\n",
    "                x = np.linspace(x_1-0.002, x_2+0.002, 100)\n",
    "                y = ac*x + q\n",
    "                if _plot: plt.plot(x, y, color='red')\n",
    "\n",
    "                if enable_interpolation:\n",
    "                  if _plot: plt.plot(mass, mass*ac+q, 'g^', label='Interpolated point')\n",
    "                  predicted_log_L =(mass*ac+q)\n",
    "                i += j\n",
    "                break\n",
    "              else: \n",
    "                discarded_coordinates.append([M_iso[i+j+1], log_L_iso[i+j+1] ])\n",
    "                j += 1\n",
    "              if i+1+j == len(M_iso): break\n",
    "      outsiders = np.asarray(discarded_coordinates)\n",
    "      if _plot:\n",
    "        plt.plot(outsiders[:,0], outsiders[:,1], 'b^', label='Discarded points')\n",
    "        plt.xlabel(r'$M [M_\\odot]$')\n",
    "        plt.ylabel(r'$log(L/L_\\odot)$')\n",
    "\n",
    "      return predicted_log_L"
   ]
  },
  {
   "cell_type": "code",
   "execution_count": 4,
   "metadata": {
    "id": "Ve-L0xtJA_H5"
   },
   "outputs": [],
   "source": [
    "# Isochrone fit: simple linear interpolation\n",
    "\n",
    "def linear_interpolation(M_iso, log_L_iso, mass, _plot=False):\n",
    "    \n",
    "  where = find_your_place(mass, M_iso)\n",
    "\n",
    "  predicted_log_L = log_L_iso[where]+(log_L_iso[where+1]-log_L_iso[where])/ \\\n",
    "                    (M_iso[where+1]-M_iso[where])*(mass-M_iso[where])\n",
    "\n",
    " # It plots the value of log_L associated to the linear interpolation of two consecutive mass values\n",
    "  \n",
    "  if _plot:\n",
    "    plt.plot([M_iso[where], M_iso[where+1]], [log_L_iso[where], log_L_iso[where+1]], color='red')\n",
    "    plt.plot(mass, predicted_log_L, 'b^')\n",
    "    plt.xlabel(r'$M [M_\\odot]$')\n",
    "    plt.ylabel(r'$log(L/L_\\odot)$')\n",
    "    plt.legend()\n",
    "\n",
    "  return predicted_log_L"
   ]
  },
  {
   "cell_type": "code",
   "execution_count": 5,
   "metadata": {
    "id": "9I_X7DUPA_H6"
   },
   "outputs": [],
   "source": [
    "# MS polynomial fit\n",
    "\n",
    "def interpolate_MS(X, Y, _plot=False):\n",
    "  degree = 10\n",
    "  p = np.polyfit(X, Y, deg=degree)\n",
    "    \n",
    "  if _plot: plt.plot(X, Y, 'm*', label='MS data')\n",
    "\n",
    "  x_min = np.min(X)\n",
    "  x_max = np.max(X)  \n",
    "  x_values = np.linspace(x_min, x_max, 1000)\n",
    "  y_values =[x_values**i for i in range(degree+1)]\n",
    "  y_values = np.asarray(y_values)\n",
    "  func = np.dot(y_values.T,p[::-1])\n",
    "    \n",
    "  if _plot:\n",
    "    plt.plot(x_values, func, label='%i th-order log fit'%degree, color='pink')\n",
    "    plt.xlabel(r'$M [M_\\odot]$')\n",
    "    plt.ylabel(r'$log(L/L_\\odot)$')\n",
    "    plt.legend()\n",
    "    \n",
    "  return p[::-1]"
   ]
  },
  {
   "cell_type": "code",
   "execution_count": 6,
   "metadata": {
    "id": "VbfDnzpiA_H6"
   },
   "outputs": [],
   "source": [
    "# RGB polynomial fit\n",
    "\n",
    "def interpolate_RGB(X, Y, _plot=False):\n",
    "  degree = 5\n",
    "  p = np.polyfit(X, np.exp(Y), deg=degree)\n",
    "    \n",
    "  if _plot: plt.plot(X, Y, 'c*', label='RGB data')\n",
    "    \n",
    "  x_min = np.min(X)\n",
    "  x_max = np.max(X)\n",
    "  x_values = np.linspace(x_min, x_max, 1000)\n",
    "  y_values =[x_values**i for i in range(degree+1)]\n",
    "  y_values = np.asarray(y_values)\n",
    "  func = np.log(np.dot(y_values.T,p[::-1]))\n",
    "    \n",
    "  if _plot:\n",
    "    plt.plot(x_values, func, label='%i th-order log fit'%degree, color='yellow')\n",
    "    plt.xlabel(r'$M [M_\\odot]$')\n",
    "    plt.ylabel(r'$log(L/L_\\odot)$')\n",
    "    plt.legend()\n",
    "    \n",
    "  return p[::-1]"
   ]
  },
  {
   "cell_type": "code",
   "execution_count": 7,
   "metadata": {},
   "outputs": [],
   "source": [
    "def luminosity_RGB(M_RGB, log_L_RGB, mass):\n",
    "    \n",
    "    if mass < 0.785:\n",
    "        pred_log_L_RGB = linear_interpolation(M_RGB, log_L_RGB, mass)\n",
    "    else:\n",
    "        where = find_your_place(mass, M_RGB)\n",
    "        pred_log_L_RGB = log_L_RGB[where]\n",
    "\n",
    "    L_RGB = 10**(pred_log_L_RGB)  \n",
    "\n",
    "    return L_RGB\n",
    "\n",
    "\n",
    "def luminosity_MS(M_MS, log_L_MS, mass):\n",
    "    \n",
    "    pred_log_L_MS = linear_interpolation(M_MS, log_L_MS, mass)\n",
    "    L_MS = 10**(pred_log_L_MS) \n",
    "    \n",
    "    return L_MS"
   ]
  },
  {
   "cell_type": "code",
   "execution_count": 8,
   "metadata": {
    "colab": {
     "base_uri": "https://localhost:8080/",
     "height": 682
    },
    "id": "xkKb-plduQ4z",
    "outputId": "f3be0569-c144-4b38-87b8-e0a613e4a47d"
   },
   "outputs": [
    {
     "name": "stderr",
     "output_type": "stream",
     "text": [
      "/var/folders/zz/3gvwdv9x1h5bwb0qlw_1qznr0000gp/T/ipykernel_1832/3934859894.py:5: RuntimeWarning: divide by zero encountered in scalar divide\n",
      "  ac = (y_2-y_1)/(x_2-x_1) # Angular coefficient\n"
     ]
    },
    {
     "data": {
      "image/png": "[encoded data removed]",
      "text/plain": [
       "<Figure size 640x480 with 1 Axes>"
      ]
     },
     "metadata": {},
     "output_type": "display_data"
    }
   ],
   "source": [
    "M_MS, M_RGB, log_L_MS, log_L_RGB = isochrone_parameters()\n",
    "\n",
    "log_luminosity_RGB = plot_rectification(M_RGB, log_L_RGB, 0.75, _plot=True, just_extraction=False)\n",
    "\n",
    "predicted_log_L_MS = linear_interpolation(M_MS, log_L_MS, 0.5, True)\n",
    "\n",
    "predicted_log_L_RGB = linear_interpolation(M_RGB, log_L_RGB, 0.75, True)\n",
    "\n",
    "param_MS = interpolate_MS(M_MS, log_L_MS, True)\n",
    "\n",
    "param_RGB = interpolate_RGB(M_RGB, log_L_RGB, True)"
   ]
  },
  {
   "cell_type": "code",
   "execution_count": null,
   "metadata": {
    "id": "fIlMSidxavxL"
   },
   "outputs": [],
   "source": []
  }
 ],
 "metadata": {
  "colab": {
   "collapsed_sections": [],
   "name": "isochrone_fit_new.ipynb",
   "provenance": []
  },
  "kernelspec": {
   "display_name": "Python 3 (ipykernel)",
   "language": "python",
   "name": "python3"
  },
  "language_info": {
   "codemirror_mode": {
    "name": "ipython",
    "version": 3
   },
   "file_extension": ".py",
   "mimetype": "text/x-python",
   "name": "python",
   "nbconvert_exporter": "python",
   "pygments_lexer": "ipython3",
   "version": "3.11.4"
  }
 },
 "nbformat": 4,
 "nbformat_minor": 1
}
