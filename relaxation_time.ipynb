{
 "cells": [
  {
   "cell_type": "code",
   "execution_count": 1,
   "id": "headed-intervention",
   "metadata": {},
   "outputs": [],
   "source": [
    "import numpy as np"
   ]
  },
  {
   "cell_type": "markdown",
   "id": "affected-composer",
   "metadata": {},
   "source": [
    "The function *relaxation times* computes the relaxation time *t$_{rh}$* (float type) in yr. In particular, *R*=50 pc and *M$_{tot}$*=5$\\times$10$^4$ M$_\\odot$ for the simulated UFD, whereas *R*=3$\\times$10$^3$ pc and *M$_{tot}$*=10$^7$ M$_\\odot$ for the simulated dSph."
   ]
  },
  {
   "cell_type": "code",
   "execution_count": null,
   "id": "usual-fisher",
   "metadata": {},
   "outputs": [],
   "source": [
    "def relaxation_time(R, M_tot):\n",
    "    \n",
    "    G = 39.478 # AU**3 yr**(-2) M_Sun**(-1)\n",
    "    R_AU = R*206264.55529277 # AU\n",
    "    m_mean = 0.61 # M_Sun\n",
    "    \n",
    "    gamma = 0.138\n",
    "    Lambda = 0.11\n",
    "    \n",
    "    N = M_tot/m_mean\n",
    "    \n",
    "    t_rh = (0.138*N/np.log(Lambda*N))*np.sqrt((1.3*R_AU)**3/(G*M_tot)) #yr\n",
    "\n",
    "    print(t_rh)\n",
    "    \n",
    "    return t_rh"
   ]
  },
  {
   "cell_type": "markdown",
   "id": "parallel-destination",
   "metadata": {},
   "source": [
    "Function initialization."
   ]
  },
  {
   "cell_type": "code",
   "execution_count": 2,
   "id": "wicked-translator",
   "metadata": {},
   "outputs": [
    {
     "name": "stdout",
     "output_type": "stream",
     "text": [
      "43389160011.24896\n"
     ]
    }
   ],
   "source": [
    "t_rh = relaxation_time(R, M_tot)"
   ]
  }
 ],
 "metadata": {
  "kernelspec": {
   "display_name": "Python 3 (ipykernel)",
   "language": "python",
   "name": "python3"
  },
  "language_info": {
   "codemirror_mode": {
    "name": "ipython",
    "version": 3
   },
   "file_extension": ".py",
   "mimetype": "text/x-python",
   "name": "python",
   "nbconvert_exporter": "python",
   "pygments_lexer": "ipython3",
   "version": "3.11.4"
  }
 },
 "nbformat": 4,
 "nbformat_minor": 5
}
